{
 "cells": [
  {
   "cell_type": "code",
   "execution_count": null,
   "id": "bbf85b39-01e5-47a3-814a-ffd811ce130a",
   "metadata": {},
   "outputs": [],
   "source": [
    "'''11.1'''\n",
    "def hours():\n",
    "    print(\"Open 9-5 daily\")"
   ]
  },
  {
   "cell_type": "code",
   "execution_count": null,
   "id": "7153e565-5d3e-47ca-b311-e353f0510ca3",
   "metadata": {},
   "outputs": [],
   "source": [
    "'''11.2'''\n"
   ]
  }
 ],
 "metadata": {
  "kernelspec": {
   "display_name": "Python 3 (ipykernel)",
   "language": "python",
   "name": "python3"
  },
  "language_info": {
   "codemirror_mode": {
    "name": "ipython",
    "version": 3
   },
   "file_extension": ".py",
   "mimetype": "text/x-python",
   "name": "python",
   "nbconvert_exporter": "python",
   "pygments_lexer": "ipython3",
   "version": "3.12.4"
  }
 },
 "nbformat": 4,
 "nbformat_minor": 5
}
